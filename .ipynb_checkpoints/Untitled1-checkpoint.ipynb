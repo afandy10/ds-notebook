{
 "cells": [
  {
   "cell_type": "code",
   "execution_count": null,
   "metadata": {},
   "outputs": [],
   "source": [
    "import requests\n",
    "from bs4 import BeautifulSoup\n",
    "\n",
    "link = 'https://www.olx.co.id/all-results/q-mobil/?page={}'\n",
    "\n",
    "req = requests.get(link.format(1))\n",
    "soup = BeautifulSoup(req.text,'lxml')\n",
    "kumpulan_page = soup.find_all('span',class_='item inline-block')\n",
    "page_terakhir = kumpulan_page[-1].a['href'].split('=')\n",
    "page_terakhir = page_terakhir[-1]\n",
    "\n",
    "kumpulan_link=[]\n",
    "for i in range(1,int(page_terakhir)+1):\n",
    "    kumpulan_link.append(link.format(i))\n",
    "\n",
    "for link in kumpulan_link:\n",
    "    req_mobil = requests.get(link)"
   ]
  },
  {
   "cell_type": "code",
   "execution_count": null,
   "metadata": {},
   "outputs": [],
   "source": [
    "def cari_atribut(): \n",
    "    "
   ]
  }
 ],
 "metadata": {
  "kernelspec": {
   "display_name": "Python 3",
   "language": "python",
   "name": "python3"
  }
 },
 "nbformat": 4,
 "nbformat_minor": 2
}
